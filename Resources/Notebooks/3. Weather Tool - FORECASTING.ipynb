{
 "cells": [
  {
   "cell_type": "code",
   "execution_count": 1,
   "metadata": {},
   "outputs": [],
   "source": [
    "import warnings; warnings.simplefilter('ignore')\n",
    "import os, shutil, datetime\n",
    "import pandas as pd\n",
    "import numpy as np\n",
    "import matplotlib.pyplot as plt\n",
    "import folium \n",
    "import seaborn as sns\n",
    "import tensorflow as tf\n",
    "import keras\n",
    "\n",
    "from sklearn.cluster import KMeans\n",
    "\n",
    "pd.set_option('display.max_columns', None)\n",
    "%matplotlib inline"
   ]
  },
  {
   "cell_type": "code",
   "execution_count": 2,
   "metadata": {},
   "outputs": [],
   "source": [
    "#The user should modify manually the IATA codes for the specific airports that will be predicted\n",
    "Airport='BOG'"
   ]
  },
  {
   "cell_type": "code",
   "execution_count": 3,
   "metadata": {},
   "outputs": [],
   "source": [
    "Countries={'CO':['ADZ','BAQ','BOG','BGA','CLO','CTG','CUC','LET','MDE','MTR','PEI','RCH','SMR','VUP']}\n",
    "Years=5"
   ]
  },
  {
   "cell_type": "code",
   "execution_count": 4,
   "metadata": {},
   "outputs": [
    {
     "output_type": "execute_result",
     "data": {
      "text/plain": [
       "                                              name  latitude_deg  \\\n",
       "iata_code                                                          \n",
       "BGA                              Palonegro Airport       7.12650   \n",
       "BOG                El Dorado International Airport       4.70159   \n",
       "BAQ        Ernesto Cortissoz International Airport      10.88960   \n",
       "CUC              Camilo Daza International Airport       7.92757   \n",
       "CTG             Rafael Nuñez International Airport      10.44240   \n",
       "\n",
       "           longitude_deg  elevation_ft iso_country  municipality gps_code  \\\n",
       "iata_code                                                                   \n",
       "BGA             -73.1848        3897.0          CO   Bucaramanga     SKBG   \n",
       "BOG             -74.1469        8361.0          CO        Bogota     SKBO   \n",
       "BAQ             -74.7808          98.0          CO  Barranquilla     SKBQ   \n",
       "CUC             -72.5115        1096.0          CO        Cúcuta     SKCC   \n",
       "CTG             -75.5130           4.0          CO     Cartagena     SKCG   \n",
       "\n",
       "           Airport Type  \n",
       "iata_code                \n",
       "BGA                   2  \n",
       "BOG                   1  \n",
       "BAQ                   0  \n",
       "CUC                   0  \n",
       "CTG                   0  "
      ],
      "text/html": "<div>\n<style scoped>\n    .dataframe tbody tr th:only-of-type {\n        vertical-align: middle;\n    }\n\n    .dataframe tbody tr th {\n        vertical-align: top;\n    }\n\n    .dataframe thead th {\n        text-align: right;\n    }\n</style>\n<table border=\"1\" class=\"dataframe\">\n  <thead>\n    <tr style=\"text-align: right;\">\n      <th></th>\n      <th>name</th>\n      <th>latitude_deg</th>\n      <th>longitude_deg</th>\n      <th>elevation_ft</th>\n      <th>iso_country</th>\n      <th>municipality</th>\n      <th>gps_code</th>\n      <th>Airport Type</th>\n    </tr>\n    <tr>\n      <th>iata_code</th>\n      <th></th>\n      <th></th>\n      <th></th>\n      <th></th>\n      <th></th>\n      <th></th>\n      <th></th>\n      <th></th>\n    </tr>\n  </thead>\n  <tbody>\n    <tr>\n      <th>BGA</th>\n      <td>Palonegro Airport</td>\n      <td>7.12650</td>\n      <td>-73.1848</td>\n      <td>3897.0</td>\n      <td>CO</td>\n      <td>Bucaramanga</td>\n      <td>SKBG</td>\n      <td>2</td>\n    </tr>\n    <tr>\n      <th>BOG</th>\n      <td>El Dorado International Airport</td>\n      <td>4.70159</td>\n      <td>-74.1469</td>\n      <td>8361.0</td>\n      <td>CO</td>\n      <td>Bogota</td>\n      <td>SKBO</td>\n      <td>1</td>\n    </tr>\n    <tr>\n      <th>BAQ</th>\n      <td>Ernesto Cortissoz International Airport</td>\n      <td>10.88960</td>\n      <td>-74.7808</td>\n      <td>98.0</td>\n      <td>CO</td>\n      <td>Barranquilla</td>\n      <td>SKBQ</td>\n      <td>0</td>\n    </tr>\n    <tr>\n      <th>CUC</th>\n      <td>Camilo Daza International Airport</td>\n      <td>7.92757</td>\n      <td>-72.5115</td>\n      <td>1096.0</td>\n      <td>CO</td>\n      <td>Cúcuta</td>\n      <td>SKCC</td>\n      <td>0</td>\n    </tr>\n    <tr>\n      <th>CTG</th>\n      <td>Rafael Nuñez International Airport</td>\n      <td>10.44240</td>\n      <td>-75.5130</td>\n      <td>4.0</td>\n      <td>CO</td>\n      <td>Cartagena</td>\n      <td>SKCG</td>\n      <td>0</td>\n    </tr>\n  </tbody>\n</table>\n</div>"
     },
     "metadata": {},
     "execution_count": 4
    }
   ],
   "source": [
    "#Airports Data Frame // Get data from airports to analyze\n",
    "\n",
    "#Read csv file from ourairports.com and select specific info \n",
    "#(Latitude, longitude, elevation, country, municipality, gpscode (OACI Code))\n",
    "\n",
    "airports=pd.read_csv(\"http://ourairports.com/data/airports.csv\")\n",
    "airports=airports[(airports[\"scheduled_service\"]=='yes') & (airports[\"type\"].str.contains(\"medium\") | airports[\"type\"].str.contains(\"large\"))]\n",
    "airports.drop([\"id\", \"ident\", \"iso_region\",\"continent\",\"type\",\"scheduled_service\",\"local_code\",\"home_link\",\"wikipedia_link\",\"keywords\"],axis=1,inplace=True)\n",
    "\n",
    "#Filter Airports to analyze\n",
    "request=[]\n",
    "for i in Countries:\n",
    "    for j in Countries.get(i):\n",
    "        request.append(j)\n",
    "        \n",
    "airports=airports[airports['iata_code'].isin(request)]\n",
    "airports.set_index(\"iata_code\",inplace=True)\n",
    "\n",
    "#Classify airports type according their information using K-means\n",
    "\n",
    "kmeans = KMeans(n_clusters=3, random_state=0).fit(airports.iloc[:,1:4])\n",
    "airports['Airport Type']=kmeans.labels_\n",
    "\n",
    "airports.head()"
   ]
  },
  {
   "cell_type": "code",
   "execution_count": 5,
   "metadata": {},
   "outputs": [
    {
     "output_type": "execute_result",
     "data": {
      "text/plain": [
       "      H Vsby (miles)  V Vsby (ft)\n",
       "IATA                             \n",
       "ADZ             1.43          500\n",
       "BAQ             0.62          200\n",
       "BOG             0.50          220\n",
       "BGA             0.81          300\n",
       "CLO             0.50          283"
      ],
      "text/html": "<div>\n<style scoped>\n    .dataframe tbody tr th:only-of-type {\n        vertical-align: middle;\n    }\n\n    .dataframe tbody tr th {\n        vertical-align: top;\n    }\n\n    .dataframe thead th {\n        text-align: right;\n    }\n</style>\n<table border=\"1\" class=\"dataframe\">\n  <thead>\n    <tr style=\"text-align: right;\">\n      <th></th>\n      <th>H Vsby (miles)</th>\n      <th>V Vsby (ft)</th>\n    </tr>\n    <tr>\n      <th>IATA</th>\n      <th></th>\n      <th></th>\n    </tr>\n  </thead>\n  <tbody>\n    <tr>\n      <th>ADZ</th>\n      <td>1.43</td>\n      <td>500</td>\n    </tr>\n    <tr>\n      <th>BAQ</th>\n      <td>0.62</td>\n      <td>200</td>\n    </tr>\n    <tr>\n      <th>BOG</th>\n      <td>0.50</td>\n      <td>220</td>\n    </tr>\n    <tr>\n      <th>BGA</th>\n      <td>0.81</td>\n      <td>300</td>\n    </tr>\n    <tr>\n      <th>CLO</th>\n      <td>0.50</td>\n      <td>283</td>\n    </tr>\n  </tbody>\n</table>\n</div>"
     },
     "metadata": {},
     "execution_count": 5
    }
   ],
   "source": [
    "# Read minimum requirements of visibility per airport\n",
    "minimos=pd.read_csv(\"Minimos requeridos Aeropuertos COL.csv\",sep=';')\n",
    "minimos.set_index('IATA',inplace=True)\n",
    "minimos=minimos.iloc[:,:-1]\n",
    "minimos.head()"
   ]
  },
  {
   "cell_type": "code",
   "execution_count": 6,
   "metadata": {},
   "outputs": [],
   "source": [
    "#Get data from IOWA State University - Mesonet, generating a link with the variables and airports info to download\n",
    "\n",
    "def getdata(stationslist,year=Years,df=airports,adjUTC=-5,Last24h=False,link=True):\n",
    "    \n",
    "    #stationslist: Request of airports to download (Dictionary)\n",
    "    #year:Amount of historical years to extract weather data\n",
    "    #df: Airports data frame\n",
    "    #adjUTC: Integer to adjust to Universal Time (UTC) to Local Time\n",
    "    #Last24h: Download only last 24h\n",
    "    \n",
    "    url=\"https://mesonet.agron.iastate.edu/cgi-bin/request/asos.py?\"\n",
    "    \n",
    "    #Add request of airports to download\n",
    "    for i in stationslist:\n",
    "        url=url+\"station=\"+str(df.at[i,'gps_code'])+\"&\"\n",
    "    \n",
    "    #Add Weather variables to download\n",
    "    #Temperauture (°C)//Wind Speed (Knots)//Visibility (miles)\n",
    "    #Cloud Coverage//Cloud Height Level (ft)//Present Wx Codes\n",
    "    \n",
    "    url=url+\"data=tmpc&data=sknt&data=vsby&data=skyl1&data=wxcodes\"\n",
    "    \n",
    "    #Define the period of time to download\n",
    "   \n",
    "    if Last24h==True:\n",
    "        #Dowload the last 24h\n",
    "        \n",
    "        date1=datetime.datetime.utcnow().date() - datetime.timedelta(days=1)\n",
    "        date2=datetime.datetime.utcnow().date() + datetime.timedelta(days=1)\n",
    "\n",
    "        y1=str(date1.year)\n",
    "        m1=str(date1.month)\n",
    "        d1=str(date1.day)\n",
    "\n",
    "        y2=str(date2.year)\n",
    "        m2=str(date2.month)\n",
    "        d2=str(date2.day)\n",
    "    \n",
    "        #Date from-to\n",
    "        url=url+\"&year1=\"+y1+\"&month1=\"+m1+\"&day1=\"+d1+\"&year2=\"+y2+\"&month2=\"+m2+\"&day2=\"+d2\n",
    "    \n",
    "    else:\n",
    "        #Download historical data according the amount of years\n",
    "        date2=datetime.datetime.utcnow().date() - datetime.timedelta(days=1)\n",
    "        y2=str(date2.year)\n",
    "        m2=str(date2.month)\n",
    "        d2=str(date2.day)\n",
    "        y1=str(date2.year-year)\n",
    "\n",
    "        #Date from-to\n",
    "        url=url+\"&year1=\"+y1+\"&month1=1&day1=1&year2=\"+y2+\"&month2=\"+m2+\"&day2=\"+d2\n",
    "    \n",
    "    #Missing values as null, download directly as txt file    \n",
    "    url=url+\"&tz=Etc%2FUTC&format=onlycomma&latlon=no&missing=null&trace=null&direct=yes&report_type=1&report_type=2\"\n",
    "    \n",
    "    #Link to download data\n",
    "    if link==True:\n",
    "        print(\"Link:\\n\\n\"+url)\n",
    "    \n",
    "    data=pd.read_csv(url)\n",
    "    \n",
    "    #Define time variables, adjust variables to local time (Colombia UTC-5)\n",
    "    data[\"valid\"]=pd.to_datetime(data[\"valid\"])\n",
    "    data[\"Year\"]= pd.DatetimeIndex(data[\"valid\"]).year\n",
    "    data[\"Month\"]= pd.DatetimeIndex(data[\"valid\"]).month\n",
    "    data[\"Day\"]= pd.DatetimeIndex(data[\"valid\"]+datetime.timedelta(hours=adjUTC)).day\n",
    "    data[\"Hour\"]= pd.DatetimeIndex(data[\"valid\"]+datetime.timedelta(hours=adjUTC)).hour\n",
    "    data[\"valid\"]=pd.DatetimeIndex(data[\"valid\"]+datetime.timedelta(hours=adjUTC))\n",
    "    \n",
    "    #Generate a Boolean 100 if a meteorological phenomenon occurs 0 Otherwise\n",
    "    data[\"Rain\"]=data['wxcodes'].str.contains('RA').fillna(False).astype(int)*100\n",
    "    data[\"Fog-Brume\"]=(data['wxcodes'].str.contains('FG')|data['wxcodes'].str.contains('BR')|(data['wxcodes'].str.contains('HZ'))).fillna(False).astype(int)*100\n",
    "    data[\"Thunder\"]=data['wxcodes'].str.contains('TS').fillna(False).astype(int)*100\n",
    "    \n",
    "    #Generate a Boolean 100 if a Fog-Brume or Thunder occur 0 Otherwise\n",
    "    #Fog-Brume and Thunders restrict the operation\n",
    "    data[\"Op constraint\"]=((data[\"Fog-Brume\"]==100) | (data[\"Thunder\"]==100)).astype(int)*100\n",
    "    \n",
    "    #Organize columns of data\n",
    "    data.rename(columns={\"station\":\"OACI\",\"tmpc\": \"Temperature\",\"vsby\":\"H Vsby\",\"skyl1\":\"V Vsby\",\"sknt\": \"Wind\"},inplace=True)   \n",
    "    df2=df['gps_code'].to_frame().reset_index()\n",
    "    data=pd.merge(left=data, right=df2, how='left', left_on='OACI', right_on='gps_code')\n",
    "    data.rename(columns={\"iata_code\":\"IATA\",\"valid\":\"Date\"},inplace=True)    \n",
    "    data=data[['IATA','OACI',\"Date\",'Year','Month','Day', 'Hour', 'H Vsby', 'V Vsby','Temperature', \n",
    "               'Wind', 'Rain', 'Fog-Brume', 'Thunder','Op constraint']]\n",
    "    data.sort_values(by=['IATA','Year','Month','Day', 'Hour'],inplace=True)\n",
    "    data.reset_index(drop=True,inplace=True)\n",
    "    \n",
    "    #Data Imputation / If a null value exists replace with historical mean value of variable in the airport\n",
    "    data['H Vsby'] = data[['IATA','H Vsby']].groupby(\"IATA\").transform(lambda x: x.fillna(x.mean()))\n",
    "    data['V Vsby'] = data[['IATA','V Vsby']].groupby(\"IATA\").transform(lambda x: x.fillna(x.mean()))\n",
    "    data['Temperature'] = data[['IATA','Temperature']].groupby(\"IATA\").transform(lambda x: x.fillna(x.mean()))\n",
    "    data['Wind'] = data[['IATA','Wind']].groupby(\"IATA\").transform(lambda x: x.fillna(x.mean()))\n",
    "    \n",
    "    #Drop outliers according to references values\n",
    "    data=data[(data['H Vsby']<=6.21) & (data['Wind']<=30)&(data['Temperature']>=-5)&(data['Temperature']<=50)&(data['V Vsby']<5000)]\n",
    "    \n",
    "    #Check missing data\n",
    "    missing_data = data.isnull()\n",
    "\n",
    "    if len(data.columns[data.isnull().any()].tolist())==0:\n",
    "        print(\"\\nData without null values\")\n",
    "    else:\n",
    "        print(\"\\nData with null values\")\n",
    "        for column in data.columns[data.isnull().any()].tolist():\n",
    "            print (missing_data[column].value_counts())\n",
    "    \n",
    "    return data\n",
    "    "
   ]
  },
  {
   "cell_type": "code",
   "execution_count": 7,
   "metadata": {},
   "outputs": [],
   "source": [
    "data=pd.read_csv('Master Data Base.csv')"
   ]
  },
  {
   "cell_type": "code",
   "execution_count": 8,
   "metadata": {
    "scrolled": true
   },
   "outputs": [
    {
     "output_type": "stream",
     "name": "stdout",
     "text": [
      "\nData without null values\n"
     ]
    },
    {
     "output_type": "execute_result",
     "data": {
      "text/plain": [
       "    IATA  OACI                Date  Year  Month  Day  Hour  H Vsby  V Vsby  \\\n",
       "0    ADZ  SKSP 2020-11-11 19:00:00  2020     11   11    19    6.21  1600.0   \n",
       "1    ADZ  SKSP 2020-11-11 20:00:00  2020     11   11    20    6.21  1600.0   \n",
       "2    ADZ  SKSP 2020-11-11 21:00:00  2020     11   11    21    6.21  1400.0   \n",
       "3    ADZ  SKSP 2020-11-11 22:00:00  2020     11   11    22    6.21  1400.0   \n",
       "4    ADZ  SKSP 2020-11-11 23:00:00  2020     11   11    23    6.21  1400.0   \n",
       "..   ...   ...                 ...   ...    ...  ...   ...     ...     ...   \n",
       "317  PEI  SKPE 2020-11-12 17:00:00  2020     11   12    17    6.21  1500.0   \n",
       "318  PEI  SKPE 2020-11-12 18:00:00  2020     11   12    18    6.21  1500.0   \n",
       "319  PEI  SKPE 2020-11-13 06:00:00  2020     11   13     6    1.86  1000.0   \n",
       "320  PEI  SKPE 2020-11-13 07:00:00  2020     11   13     7    4.97   800.0   \n",
       "321  PEI  SKPE 2020-11-13 08:00:00  2020     11   13     8    3.11   800.0   \n",
       "\n",
       "     Temperature      Wind  Rain  Fog-Brume  Thunder  Op constraint  \n",
       "0           26.0  2.571429     0          0        0              0  \n",
       "1           26.0  0.000000     0          0        0              0  \n",
       "2           25.0  0.000000     0          0        0              0  \n",
       "3           25.0  0.000000     0          0        0              0  \n",
       "4           25.0  0.000000     0          0        0              0  \n",
       "..           ...       ...   ...        ...      ...            ...  \n",
       "317         22.0  8.000000     0          0        0              0  \n",
       "318         22.0  6.000000     0          0        0              0  \n",
       "319         18.0  4.000000     0        100        0            100  \n",
       "320         19.0  2.000000     0        100        0            100  \n",
       "321         20.0  3.000000     0        100        0            100  \n",
       "\n",
       "[322 rows x 15 columns]"
      ],
      "text/html": "<div>\n<style scoped>\n    .dataframe tbody tr th:only-of-type {\n        vertical-align: middle;\n    }\n\n    .dataframe tbody tr th {\n        vertical-align: top;\n    }\n\n    .dataframe thead th {\n        text-align: right;\n    }\n</style>\n<table border=\"1\" class=\"dataframe\">\n  <thead>\n    <tr style=\"text-align: right;\">\n      <th></th>\n      <th>IATA</th>\n      <th>OACI</th>\n      <th>Date</th>\n      <th>Year</th>\n      <th>Month</th>\n      <th>Day</th>\n      <th>Hour</th>\n      <th>H Vsby</th>\n      <th>V Vsby</th>\n      <th>Temperature</th>\n      <th>Wind</th>\n      <th>Rain</th>\n      <th>Fog-Brume</th>\n      <th>Thunder</th>\n      <th>Op constraint</th>\n    </tr>\n  </thead>\n  <tbody>\n    <tr>\n      <th>0</th>\n      <td>ADZ</td>\n      <td>SKSP</td>\n      <td>2020-11-11 19:00:00</td>\n      <td>2020</td>\n      <td>11</td>\n      <td>11</td>\n      <td>19</td>\n      <td>6.21</td>\n      <td>1600.0</td>\n      <td>26.0</td>\n      <td>2.571429</td>\n      <td>0</td>\n      <td>0</td>\n      <td>0</td>\n      <td>0</td>\n    </tr>\n    <tr>\n      <th>1</th>\n      <td>ADZ</td>\n      <td>SKSP</td>\n      <td>2020-11-11 20:00:00</td>\n      <td>2020</td>\n      <td>11</td>\n      <td>11</td>\n      <td>20</td>\n      <td>6.21</td>\n      <td>1600.0</td>\n      <td>26.0</td>\n      <td>0.000000</td>\n      <td>0</td>\n      <td>0</td>\n      <td>0</td>\n      <td>0</td>\n    </tr>\n    <tr>\n      <th>2</th>\n      <td>ADZ</td>\n      <td>SKSP</td>\n      <td>2020-11-11 21:00:00</td>\n      <td>2020</td>\n      <td>11</td>\n      <td>11</td>\n      <td>21</td>\n      <td>6.21</td>\n      <td>1400.0</td>\n      <td>25.0</td>\n      <td>0.000000</td>\n      <td>0</td>\n      <td>0</td>\n      <td>0</td>\n      <td>0</td>\n    </tr>\n    <tr>\n      <th>3</th>\n      <td>ADZ</td>\n      <td>SKSP</td>\n      <td>2020-11-11 22:00:00</td>\n      <td>2020</td>\n      <td>11</td>\n      <td>11</td>\n      <td>22</td>\n      <td>6.21</td>\n      <td>1400.0</td>\n      <td>25.0</td>\n      <td>0.000000</td>\n      <td>0</td>\n      <td>0</td>\n      <td>0</td>\n      <td>0</td>\n    </tr>\n    <tr>\n      <th>4</th>\n      <td>ADZ</td>\n      <td>SKSP</td>\n      <td>2020-11-11 23:00:00</td>\n      <td>2020</td>\n      <td>11</td>\n      <td>11</td>\n      <td>23</td>\n      <td>6.21</td>\n      <td>1400.0</td>\n      <td>25.0</td>\n      <td>0.000000</td>\n      <td>0</td>\n      <td>0</td>\n      <td>0</td>\n      <td>0</td>\n    </tr>\n    <tr>\n      <th>...</th>\n      <td>...</td>\n      <td>...</td>\n      <td>...</td>\n      <td>...</td>\n      <td>...</td>\n      <td>...</td>\n      <td>...</td>\n      <td>...</td>\n      <td>...</td>\n      <td>...</td>\n      <td>...</td>\n      <td>...</td>\n      <td>...</td>\n      <td>...</td>\n      <td>...</td>\n    </tr>\n    <tr>\n      <th>317</th>\n      <td>PEI</td>\n      <td>SKPE</td>\n      <td>2020-11-12 17:00:00</td>\n      <td>2020</td>\n      <td>11</td>\n      <td>12</td>\n      <td>17</td>\n      <td>6.21</td>\n      <td>1500.0</td>\n      <td>22.0</td>\n      <td>8.000000</td>\n      <td>0</td>\n      <td>0</td>\n      <td>0</td>\n      <td>0</td>\n    </tr>\n    <tr>\n      <th>318</th>\n      <td>PEI</td>\n      <td>SKPE</td>\n      <td>2020-11-12 18:00:00</td>\n      <td>2020</td>\n      <td>11</td>\n      <td>12</td>\n      <td>18</td>\n      <td>6.21</td>\n      <td>1500.0</td>\n      <td>22.0</td>\n      <td>6.000000</td>\n      <td>0</td>\n      <td>0</td>\n      <td>0</td>\n      <td>0</td>\n    </tr>\n    <tr>\n      <th>319</th>\n      <td>PEI</td>\n      <td>SKPE</td>\n      <td>2020-11-13 06:00:00</td>\n      <td>2020</td>\n      <td>11</td>\n      <td>13</td>\n      <td>6</td>\n      <td>1.86</td>\n      <td>1000.0</td>\n      <td>18.0</td>\n      <td>4.000000</td>\n      <td>0</td>\n      <td>100</td>\n      <td>0</td>\n      <td>100</td>\n    </tr>\n    <tr>\n      <th>320</th>\n      <td>PEI</td>\n      <td>SKPE</td>\n      <td>2020-11-13 07:00:00</td>\n      <td>2020</td>\n      <td>11</td>\n      <td>13</td>\n      <td>7</td>\n      <td>4.97</td>\n      <td>800.0</td>\n      <td>19.0</td>\n      <td>2.000000</td>\n      <td>0</td>\n      <td>100</td>\n      <td>0</td>\n      <td>100</td>\n    </tr>\n    <tr>\n      <th>321</th>\n      <td>PEI</td>\n      <td>SKPE</td>\n      <td>2020-11-13 08:00:00</td>\n      <td>2020</td>\n      <td>11</td>\n      <td>13</td>\n      <td>8</td>\n      <td>3.11</td>\n      <td>800.0</td>\n      <td>20.0</td>\n      <td>3.000000</td>\n      <td>0</td>\n      <td>100</td>\n      <td>0</td>\n      <td>100</td>\n    </tr>\n  </tbody>\n</table>\n<p>322 rows × 15 columns</p>\n</div>"
     },
     "metadata": {},
     "execution_count": 8
    }
   ],
   "source": [
    "#Data request last 24h\n",
    "data24h=getdata(stationslist=request,df=airports,Last24h=True,link=False)\n",
    "data24h"
   ]
  },
  {
   "cell_type": "code",
   "execution_count": 9,
   "metadata": {
    "scrolled": true
   },
   "outputs": [
    {
     "output_type": "execute_result",
     "data": {
      "text/plain": [
       "    IATA  H Vsby  V Vsby  Temperature      Wind  Rain  Fog-Brume  Thunder\n",
       "0    ADZ    6.21  1600.0         26.0  2.571429     0          0        0\n",
       "1    ADZ    6.21  1600.0         26.0  0.000000     0          0        0\n",
       "2    ADZ    6.21  1400.0         25.0  0.000000     0          0        0\n",
       "3    ADZ    6.21  1400.0         25.0  0.000000     0          0        0\n",
       "4    ADZ    6.21  1400.0         25.0  0.000000     0          0        0\n",
       "..   ...     ...     ...          ...       ...   ...        ...      ...\n",
       "317  PEI    6.21  1500.0         22.0  8.000000     0          0        0\n",
       "318  PEI    6.21  1500.0         22.0  6.000000     0          0        0\n",
       "319  PEI    1.86  1000.0         18.0  4.000000     0        100        0\n",
       "320  PEI    4.97   800.0         19.0  2.000000     0        100        0\n",
       "321  PEI    3.11   800.0         20.0  3.000000     0        100        0\n",
       "\n",
       "[322 rows x 8 columns]"
      ],
      "text/html": "<div>\n<style scoped>\n    .dataframe tbody tr th:only-of-type {\n        vertical-align: middle;\n    }\n\n    .dataframe tbody tr th {\n        vertical-align: top;\n    }\n\n    .dataframe thead th {\n        text-align: right;\n    }\n</style>\n<table border=\"1\" class=\"dataframe\">\n  <thead>\n    <tr style=\"text-align: right;\">\n      <th></th>\n      <th>IATA</th>\n      <th>H Vsby</th>\n      <th>V Vsby</th>\n      <th>Temperature</th>\n      <th>Wind</th>\n      <th>Rain</th>\n      <th>Fog-Brume</th>\n      <th>Thunder</th>\n    </tr>\n  </thead>\n  <tbody>\n    <tr>\n      <th>0</th>\n      <td>ADZ</td>\n      <td>6.21</td>\n      <td>1600.0</td>\n      <td>26.0</td>\n      <td>2.571429</td>\n      <td>0</td>\n      <td>0</td>\n      <td>0</td>\n    </tr>\n    <tr>\n      <th>1</th>\n      <td>ADZ</td>\n      <td>6.21</td>\n      <td>1600.0</td>\n      <td>26.0</td>\n      <td>0.000000</td>\n      <td>0</td>\n      <td>0</td>\n      <td>0</td>\n    </tr>\n    <tr>\n      <th>2</th>\n      <td>ADZ</td>\n      <td>6.21</td>\n      <td>1400.0</td>\n      <td>25.0</td>\n      <td>0.000000</td>\n      <td>0</td>\n      <td>0</td>\n      <td>0</td>\n    </tr>\n    <tr>\n      <th>3</th>\n      <td>ADZ</td>\n      <td>6.21</td>\n      <td>1400.0</td>\n      <td>25.0</td>\n      <td>0.000000</td>\n      <td>0</td>\n      <td>0</td>\n      <td>0</td>\n    </tr>\n    <tr>\n      <th>4</th>\n      <td>ADZ</td>\n      <td>6.21</td>\n      <td>1400.0</td>\n      <td>25.0</td>\n      <td>0.000000</td>\n      <td>0</td>\n      <td>0</td>\n      <td>0</td>\n    </tr>\n    <tr>\n      <th>...</th>\n      <td>...</td>\n      <td>...</td>\n      <td>...</td>\n      <td>...</td>\n      <td>...</td>\n      <td>...</td>\n      <td>...</td>\n      <td>...</td>\n    </tr>\n    <tr>\n      <th>317</th>\n      <td>PEI</td>\n      <td>6.21</td>\n      <td>1500.0</td>\n      <td>22.0</td>\n      <td>8.000000</td>\n      <td>0</td>\n      <td>0</td>\n      <td>0</td>\n    </tr>\n    <tr>\n      <th>318</th>\n      <td>PEI</td>\n      <td>6.21</td>\n      <td>1500.0</td>\n      <td>22.0</td>\n      <td>6.000000</td>\n      <td>0</td>\n      <td>0</td>\n      <td>0</td>\n    </tr>\n    <tr>\n      <th>319</th>\n      <td>PEI</td>\n      <td>1.86</td>\n      <td>1000.0</td>\n      <td>18.0</td>\n      <td>4.000000</td>\n      <td>0</td>\n      <td>100</td>\n      <td>0</td>\n    </tr>\n    <tr>\n      <th>320</th>\n      <td>PEI</td>\n      <td>4.97</td>\n      <td>800.0</td>\n      <td>19.0</td>\n      <td>2.000000</td>\n      <td>0</td>\n      <td>100</td>\n      <td>0</td>\n    </tr>\n    <tr>\n      <th>321</th>\n      <td>PEI</td>\n      <td>3.11</td>\n      <td>800.0</td>\n      <td>20.0</td>\n      <td>3.000000</td>\n      <td>0</td>\n      <td>100</td>\n      <td>0</td>\n    </tr>\n  </tbody>\n</table>\n<p>322 rows × 8 columns</p>\n</div>"
     },
     "metadata": {},
     "execution_count": 9
    }
   ],
   "source": [
    "#Generates a new Dataset, containing only the airport code and the numeric variables regarding the metereological variables\n",
    "data_forecasting_24h=data24h[['IATA','H Vsby','V Vsby', 'Temperature', 'Wind', 'Rain', 'Fog-Brume', 'Thunder']]\n",
    "data_forecasting_24h"
   ]
  },
  {
   "cell_type": "markdown",
   "metadata": {},
   "source": [
    "**Performes the analysis for Horizontal Visibility**"
   ]
  },
  {
   "cell_type": "code",
   "execution_count": 10,
   "metadata": {},
   "outputs": [],
   "source": [
    "Variable='V Vsby'"
   ]
  },
  {
   "cell_type": "code",
   "execution_count": 11,
   "metadata": {},
   "outputs": [],
   "source": [
    "def data_airport(str_airport):\n",
    "    df_airport_2=data_forecasting_24h[data_forecasting_24h['IATA']==str_airport]    \n",
    "    return df_airport_2\n",
    "\n",
    "def data_airport_historic(str_airport):\n",
    "    df_airport_3=data[data['IATA']==str_airport]    \n",
    "    return df_airport_3"
   ]
  },
  {
   "cell_type": "code",
   "execution_count": 12,
   "metadata": {},
   "outputs": [],
   "source": [
    "#Generates de Data Frame with the last 24\n",
    "df=data_airport(Airport)\n",
    "df.drop('IATA', axis='columns', inplace=True)\n",
    "\n",
    "#Generates the historic dataset in order to calculate mean and std\n",
    "df_historic=data_airport_historic(Airport)\n",
    "df_historic.drop('IATA', axis='columns', inplace=True)\n",
    "df_historic=df_historic[['H Vsby','V Vsby', 'Temperature', 'Wind', 'Rain', 'Fog-Brume', 'Thunder']]\n",
    "\n",
    "#Calculate std and mean\n",
    "n = len(df_historic)\n",
    "train_df_historic = df_historic[0:int(n*0.7)]\n",
    "val_df_historic = df_historic[int(n*0.7):int(n*0.9)]\n",
    "test_df_historic = df_historic[int(n*0.9):]\n",
    "train_historic_mean = train_df_historic.mean()\n",
    "train_historic_std = train_df_historic.std()"
   ]
  },
  {
   "cell_type": "code",
   "execution_count": 13,
   "metadata": {},
   "outputs": [],
   "source": [
    "###################################Generates the class WindowGenerator########################################\n",
    "\n",
    "class WindowGenerator():\n",
    "    #The first function within the class is to instantiate and define the variables entered as input\n",
    "  def __init__(self, input_width, label_width, shift,\n",
    "               df=df, label_columns=None):\n",
    "    # Stores the raw data from the dataset\n",
    "    self.df = df\n",
    "\n",
    "\n",
    "    # Work out the label and the column indices, depending on the input parameters\n",
    "    self.label_columns = label_columns\n",
    "    if label_columns is not None:\n",
    "      self.label_columns_indices = {name: i for i, name in\n",
    "                                    enumerate(label_columns)}\n",
    "    self.column_indices = {name: i for i, name in\n",
    "                           enumerate(df.columns)}\n",
    "\n",
    "    # Work out the window parameters.\n",
    "    self.input_width = input_width\n",
    "    self.label_width = label_width\n",
    "    self.shift = shift\n",
    "\n",
    "    self.total_window_size = input_width + shift\n",
    "\n",
    "    self.input_slice = slice(0, input_width)\n",
    "    self.input_indices = np.arange(self.total_window_size)[self.input_slice]\n",
    "\n",
    "    self.label_start = self.total_window_size - self.label_width\n",
    "    self.labels_slice = slice(self.label_start, None)\n",
    "    self.label_indices = np.arange(self.total_window_size)[self.labels_slice]\n",
    "\n",
    "    #This functions returns the Total Window Size, the Input and Label Indices and the Label column name\n",
    "  def __repr__(self):\n",
    "    return '\\n'.join([\n",
    "        f'Total window size: {self.total_window_size}',\n",
    "        f'Input indices: {self.input_indices}',\n",
    "        f'Label indices: {self.label_indices}',\n",
    "        f'Label column name(s): {self.label_columns}'])\n",
    "\n",
    "###############################Defines a function to split the data sets #####################################\n",
    "def split_window(self, features):\n",
    "    #The input variables will be those that will not be predicted\n",
    "  inputs = features[:, self.input_slice, :]\n",
    "    #The label variables will be those that will be predicted\n",
    "  labels = features[:, self.labels_slice, :]\n",
    "  if self.label_columns is not None:\n",
    "        #In case there is more than one label variable, this for stacks all of them\n",
    "    labels = tf.stack(\n",
    "        [labels[:, :, self.column_indices[name]] for name in self.label_columns],\n",
    "        axis=-1)\n",
    "\n",
    "    #Defines the shapes for the input and the label variables\n",
    "  inputs.set_shape([None, self.input_width, None])\n",
    "  labels.set_shape([None, self.label_width, None])\n",
    "\n",
    "    #Returns the input and the labels  \n",
    "  return inputs, labels\n",
    "\n",
    "WindowGenerator.split_window = split_window"
   ]
  },
  {
   "cell_type": "code",
   "execution_count": 14,
   "metadata": {},
   "outputs": [],
   "source": [
    "wide_window= WindowGenerator(\n",
    "    input_width=24, label_width=24, shift=1,\n",
    "    label_columns=[Variable])"
   ]
  },
  {
   "cell_type": "code",
   "execution_count": 15,
   "metadata": {},
   "outputs": [
    {
     "output_type": "stream",
     "name": "stdout",
     "text": [
      "All shapes are: (batch, time, features)\nWindow shape: (1, 25, 7)\nInputs shape: (1, 24, 7)\nlabels shape: (1, 24, 1)\n"
     ]
    }
   ],
   "source": [
    "df_normalized=(df-train_historic_mean)/train_historic_std\n",
    "\n",
    "#Generates an example of a dataset. In the real, the test_df has to be replaced for the las 24 hours\n",
    "#predict_window = tf.stack([np.array(df[:wide_window.total_window_size])])\n",
    "predict_window = tf.stack([np.array(df_normalized[len(df_normalized)-wide_window.total_window_size:])])\n",
    "\n",
    "#Divides into the input and label variables, using the previous dataset and the wide_window Window Type\n",
    "predict_inputs, predict_labels = wide_window.split_window(predict_window)\n",
    "\n",
    "print('All shapes are: (batch, time, features)')\n",
    "print(f'Window shape: {predict_window.shape}')\n",
    "print(f'Inputs shape: {predict_inputs.shape}')\n",
    "print(f'labels shape: {predict_labels.shape}')"
   ]
  },
  {
   "cell_type": "code",
   "execution_count": 16,
   "metadata": {},
   "outputs": [
    {
     "output_type": "execute_result",
     "data": {
      "text/plain": [
       "<tf.Tensor: shape=(1, 25, 7), dtype=float64, numpy=\n",
       "array([[[ 3.85066829e-01, -2.32688410e+00,  2.80824579e-01,\n",
       "          1.56590215e-01, -1.54438823e-01, -2.81332863e-01,\n",
       "         -1.27099225e-01],\n",
       "        [ 3.85066829e-01, -4.16667403e-01,  8.46373974e-01,\n",
       "          1.56590215e-01, -1.54438823e-01, -2.81332863e-01,\n",
       "         -1.27099225e-01],\n",
       "        [ 3.85066829e-01,  4.01996894e-01,  1.41192337e+00,\n",
       "         -1.04205670e+00, -1.54438823e-01, -2.81332863e-01,\n",
       "         -1.27099225e-01],\n",
       "        [ 3.85066829e-01,  4.01996894e-01,  1.12914867e+00,\n",
       "         -1.43071514e-01, -1.54438823e-01, -2.81332863e-01,\n",
       "         -1.27099225e-01],\n",
       "        [-1.68205973e+00,  4.01996894e-01,  8.46373974e-01,\n",
       "          1.65489886e+00, -1.54438823e-01, -2.81332863e-01,\n",
       "         -1.27099225e-01],\n",
       "        [-1.68205973e+00,  4.01996894e-01,  5.63599276e-01,\n",
       "          7.55913674e-01, -1.54438823e-01, -2.81332863e-01,\n",
       "         -1.27099225e-01],\n",
       "        [-3.06014410e+00, -9.62443602e-01,  2.80824579e-01,\n",
       "          1.05557540e+00,  6.47489007e+00, -2.81332863e-01,\n",
       "          7.86766717e+00],\n",
       "        [-1.68205973e+00, -3.69132459e+00,  2.80824579e-01,\n",
       "          4.56251945e-01, -1.54438823e-01, -2.81332863e-01,\n",
       "         -1.27099225e-01],\n",
       "        [-1.68205973e+00, -3.41843649e+00,  2.80824579e-01,\n",
       "          7.55913674e-01, -1.54438823e-01, -2.81332863e-01,\n",
       "         -1.27099225e-01],\n",
       "        [-1.68205973e+00, -2.32688410e+00,  2.80824579e-01,\n",
       "          1.56590215e-01,  6.47489007e+00, -2.81332863e-01,\n",
       "          7.86766717e+00],\n",
       "        [-1.68205973e+00, -2.32688410e+00,  2.80824579e-01,\n",
       "          1.56590215e-01, -1.54438823e-01, -2.81332863e-01,\n",
       "         -1.27099225e-01],\n",
       "        [-1.68205973e+00, -2.32688410e+00,  2.80824579e-01,\n",
       "          1.56590215e-01, -1.54438823e-01, -2.81332863e-01,\n",
       "         -1.27099225e-01],\n",
       "        [-9.93017542e-01, -9.62443602e-01, -1.95011855e-03,\n",
       "         -1.04205670e+00, -1.54438823e-01, -2.81332863e-01,\n",
       "         -1.27099225e-01],\n",
       "        [-9.93017542e-01, -9.62443602e-01, -1.95011855e-03,\n",
       "         -1.04205670e+00, -1.54438823e-01, -2.81332863e-01,\n",
       "         -1.27099225e-01],\n",
       "        [-9.93017542e-01, -9.62443602e-01, -1.95011855e-03,\n",
       "         -1.43071514e-01, -1.54438823e-01, -2.81332863e-01,\n",
       "         -1.27099225e-01],\n",
       "        [-1.68205973e+00, -9.62443602e-01, -2.84724816e-01,\n",
       "         -1.43071514e-01, -1.54438823e-01, -2.81332863e-01,\n",
       "         -1.27099225e-01],\n",
       "        [-3.06014410e+00, -9.62443602e-01, -8.50274211e-01,\n",
       "          3.15320751e+00,  6.47489007e+00, -2.81332863e-01,\n",
       "         -1.27099225e-01],\n",
       "        [-1.68205973e+00, -9.62443602e-01, -8.50274211e-01,\n",
       "          1.56590215e-01, -1.54438823e-01, -2.81332863e-01,\n",
       "         -1.27099225e-01],\n",
       "        [-1.68205973e+00, -9.62443602e-01, -8.50274211e-01,\n",
       "         -1.04205670e+00, -1.54438823e-01, -2.81332863e-01,\n",
       "         -1.27099225e-01],\n",
       "        [-9.93017542e-01, -9.62443602e-01, -8.50274211e-01,\n",
       "         -1.04205670e+00, -1.54438823e-01, -2.81332863e-01,\n",
       "         -1.27099225e-01],\n",
       "        [ 3.85066829e-01, -2.32688410e+00, -1.13304891e+00,\n",
       "         -4.42733244e-01, -1.54438823e-01, -2.81332863e-01,\n",
       "         -1.27099225e-01],\n",
       "        [ 3.85066829e-01, -2.32688410e+00, -8.50274211e-01,\n",
       "         -1.04205670e+00, -1.54438823e-01, -2.81332863e-01,\n",
       "         -1.27099225e-01],\n",
       "        [ 3.85066829e-01, -2.32688410e+00, -1.13304891e+00,\n",
       "         -1.04205670e+00, -1.54438823e-01, -2.81332863e-01,\n",
       "         -1.27099225e-01],\n",
       "        [ 3.85066829e-01, -2.32688410e+00, -8.50274211e-01,\n",
       "         -7.42394974e-01, -1.54438823e-01, -2.81332863e-01,\n",
       "         -1.27099225e-01],\n",
       "        [ 3.85066829e-01, -4.16667403e-01, -5.67499513e-01,\n",
       "         -1.43071514e-01, -1.54438823e-01, -2.81332863e-01,\n",
       "         -1.27099225e-01]]])>"
      ]
     },
     "metadata": {},
     "execution_count": 16
    }
   ],
   "source": [
    "predict_window"
   ]
  },
  {
   "cell_type": "code",
   "execution_count": 16,
   "metadata": {},
   "outputs": [],
   "source": [
    "#Loads the correponding model\n",
    "path_to_model='201112 Models'+'/'+Airport+'/'+Variable+'.h5'\n",
    "\n",
    "model = keras.models.load_model(path_to_model)"
   ]
  },
  {
   "cell_type": "code",
   "execution_count": 17,
   "metadata": {},
   "outputs": [
    {
     "name": "stdout",
     "output_type": "stream",
     "text": [
      "WARNING:tensorflow:Model was constructed with shape (None, 1, 7) for input Tensor(\"dense_21_input:0\", shape=(None, 1, 7), dtype=float32), but it was called on an input with incompatible shape (None, 24, 7).\n"
     ]
    }
   ],
   "source": [
    "#Uses the best performed model to predict the label\n",
    "predicted = model.predict(\n",
    "    predict_inputs)"
   ]
  },
  {
   "cell_type": "code",
   "execution_count": 18,
   "metadata": {},
   "outputs": [],
   "source": [
    "predicted_denorm_V=predicted*train_historic_std[Variable]+train_historic_mean[Variable]\n",
    "predicted_denorm_V=predicted_denorm_V[0]\n",
    "#As the previous data is standarized, here we calcule the real value for each prediction\n",
    "prediction_labels_denorm_V=predict_labels*train_historic_std[Variable]+train_historic_mean[Variable]\n",
    "prediction_labels_denorm_V=prediction_labels_denorm_V[0]"
   ]
  },
  {
   "cell_type": "code",
   "execution_count": 19,
   "metadata": {},
   "outputs": [],
   "source": [
    "#Measures the MAE\n",
    "mean_absolute_error_V=np.abs(prediction_labels_denorm_V-predicted_denorm_V).mean()\n",
    "mean_absolute_error_V=round(mean_absolute_error_V,2)"
   ]
  },
  {
   "cell_type": "code",
   "execution_count": 20,
   "metadata": {},
   "outputs": [],
   "source": [
    "hours=np.array([1,2,3,4,5,6,7,8,9,10,11,12,13,14,15,16,17,18,19,20,21,22,23,24])\n",
    "hours_prediction=np.array([2,3,4,5,6,7,8,9,10,11,12,13,14,15,16,17,18,19,20,21,22,23,24,25])\n",
    "hour_25=np.array([25])"
   ]
  },
  {
   "cell_type": "code",
   "execution_count": 21,
   "metadata": {},
   "outputs": [
    {
     "data": {
      "text/plain": [
       "Text(0.5, 1.0, 'Predicted V Vsby For The Last 24 h')"
      ]
     },
     "execution_count": 21,
     "metadata": {},
     "output_type": "execute_result"
    },
    {
     "data": {
      "image/png": "[encoded data removed]",
      "text/plain": [
       "<Figure size 432x288 with 1 Axes>"
      ]
     },
     "metadata": {
      "needs_background": "light"
     },
     "output_type": "display_data"
    }
   ],
   "source": [
    "plt.plot(hours, prediction_labels_denorm_V, label='Real Values')\n",
    "plt.plot(hours_prediction,predicted_denorm_V, label='Predicted Values')\n",
    "plt.scatter(hour_25,predicted_denorm_V[23], color='red', label='Forecast 1 h In The Future')\n",
    "\n",
    "error_text_V='MAE= '+str(mean_absolute_error_V)+' ft'\n",
    "plt.text(0.5,0.5,error_text_V, fontweight=\"bold\")\n",
    "plt.legend()\n",
    "\n",
    "units=' (ft)'\n",
    "\n",
    "plt.ylabel(Variable+units)\n",
    "plt.xlabel('Time Elapsed (Hours)')\n",
    "plt.title('Predicted '+Variable+' For The Last 24 h', fontweight=\"bold\")"
   ]
  },
  {
   "cell_type": "markdown",
   "metadata": {},
   "source": [
    "**Performes the analysis for Horizontal Visibility**"
   ]
  },
  {
   "cell_type": "code",
   "execution_count": 22,
   "metadata": {},
   "outputs": [],
   "source": [
    "Variable='H Vsby'"
   ]
  },
  {
   "cell_type": "code",
   "execution_count": 23,
   "metadata": {},
   "outputs": [],
   "source": [
    "wide_window= WindowGenerator(\n",
    "    input_width=24, label_width=24, shift=1,\n",
    "    label_columns=[Variable])"
   ]
  },
  {
   "cell_type": "code",
   "execution_count": 24,
   "metadata": {},
   "outputs": [
    {
     "name": "stdout",
     "output_type": "stream",
     "text": [
      "All shapes are: (batch, time, features)\n",
      "Window shape: (1, 25, 7)\n",
      "Inputs shape: (1, 24, 7)\n",
      "labels shape: (1, 24, 1)\n"
     ]
    }
   ],
   "source": [
    "df_normalized=(df-train_historic_mean)/train_historic_std\n",
    "\n",
    "#Generates an example of a dataset. In the real, the test_df has to be replaced for the las 24 hours\n",
    "#predict_window = tf.stack([np.array(df[:wide_window.total_window_size])])\n",
    "predict_window = tf.stack([np.array(df_normalized[len(df_normalized)-wide_window.total_window_size:])])\n",
    "\n",
    "#Divides into the input and label variables, using the previous dataset and the wide_window Window Type\n",
    "predict_inputs, predict_labels = wide_window.split_window(predict_window)\n",
    "\n",
    "print('All shapes are: (batch, time, features)')\n",
    "print(f'Window shape: {predict_window.shape}')\n",
    "print(f'Inputs shape: {predict_inputs.shape}')\n",
    "print(f'labels shape: {predict_labels.shape}')"
   ]
  },
  {
   "cell_type": "code",
   "execution_count": 25,
   "metadata": {},
   "outputs": [],
   "source": [
    "#Loads the correponding model\n",
    "path_to_model='201112 Models'+'/'+Airport+'/'+Variable+'.h5'\n",
    "\n",
    "model = keras.models.load_model(path_to_model)"
   ]
  },
  {
   "cell_type": "code",
   "execution_count": 26,
   "metadata": {},
   "outputs": [
    {
     "name": "stdout",
     "output_type": "stream",
     "text": [
      "WARNING:tensorflow:Model was constructed with shape (None, 1, 7) for input Tensor(\"dense_161_input:0\", shape=(None, 1, 7), dtype=float32), but it was called on an input with incompatible shape (None, 24, 7).\n"
     ]
    }
   ],
   "source": [
    "#Uses the best performed model to predict the label\n",
    "predicted = model.predict(\n",
    "    predict_inputs)"
   ]
  },
  {
   "cell_type": "code",
   "execution_count": 27,
   "metadata": {},
   "outputs": [],
   "source": [
    "predicted_denorm_H=predicted*train_historic_std[Variable]+train_historic_mean[Variable]\n",
    "predicted_denorm_H=predicted_denorm_H[0]\n",
    "#As the previous data is standarized, here we calcule the real value for each prediction\n",
    "prediction_labels_denorm_H=predict_labels*train_historic_std[Variable]+train_historic_mean[Variable]\n",
    "prediction_labels_denorm_H=prediction_labels_denorm_H[0]"
   ]
  },
  {
   "cell_type": "code",
   "execution_count": 28,
   "metadata": {},
   "outputs": [],
   "source": [
    "#Measures the MAE\n",
    "mean_absolute_error_H=np.abs(prediction_labels_denorm_H-predicted_denorm_H).mean()\n",
    "mean_absolute_error_H=round(mean_absolute_error_H,2)"
   ]
  },
  {
   "cell_type": "code",
   "execution_count": 29,
   "metadata": {},
   "outputs": [
    {
     "data": {
      "text/plain": [
       "Text(0.5, 1.0, 'Predicted H Vsby For The Last 24 h')"
      ]
     },
     "execution_count": 29,
     "metadata": {},
     "output_type": "execute_result"
    },
    {
     "data": {
      "image/png": "[encoded data removed]",
      "text/plain": [
       "<Figure size 432x288 with 1 Axes>"
      ]
     },
     "metadata": {
      "needs_background": "light"
     },
     "output_type": "display_data"
    }
   ],
   "source": [
    "plt.plot(hours, prediction_labels_denorm_H, label='Real Values')\n",
    "plt.plot(hours_prediction,predicted_denorm_H, label='Predicted Values')\n",
    "plt.scatter(hour_25,predicted_denorm_H[23], color='red', label='Forecast 1 h In The Future')\n",
    "\n",
    "error_text_H='MAE= '+str(mean_absolute_error_H)+' miles'\n",
    "plt.text(0.5,0.5,error_text_H, fontweight=\"bold\")\n",
    "\n",
    "plt.legend()\n",
    "\n",
    "units=' (Miles)'\n",
    "\n",
    "plt.ylabel(Variable+units)\n",
    "plt.xlabel('Time Elapsed (Hours)')\n",
    "plt.title('Predicted '+Variable+' For The Last 24 h', fontweight=\"bold\")"
   ]
  },
  {
   "cell_type": "markdown",
   "metadata": {},
   "source": [
    "**Comparison of Predicted Vs Minimum Values**"
   ]
  },
  {
   "cell_type": "code",
   "execution_count": 30,
   "metadata": {},
   "outputs": [
    {
     "data": {
      "text/html": [
       "<div>\n",
       "<style scoped>\n",
       "    .dataframe tbody tr th:only-of-type {\n",
       "        vertical-align: middle;\n",
       "    }\n",
       "\n",
       "    .dataframe tbody tr th {\n",
       "        vertical-align: top;\n",
       "    }\n",
       "\n",
       "    .dataframe thead th {\n",
       "        text-align: right;\n",
       "    }\n",
       "</style>\n",
       "<table border=\"1\" class=\"dataframe\">\n",
       "  <thead>\n",
       "    <tr style=\"text-align: right;\">\n",
       "      <th></th>\n",
       "      <th>H Vsby (miles)</th>\n",
       "      <th>V Vsby (ft)</th>\n",
       "    </tr>\n",
       "    <tr>\n",
       "      <th>IATA</th>\n",
       "      <th></th>\n",
       "      <th></th>\n",
       "    </tr>\n",
       "  </thead>\n",
       "  <tbody>\n",
       "    <tr>\n",
       "      <th>BOG</th>\n",
       "      <td>0.5</td>\n",
       "      <td>220</td>\n",
       "    </tr>\n",
       "  </tbody>\n",
       "</table>\n",
       "</div>"
      ],
      "text/plain": [
       "      H Vsby (miles)  V Vsby (ft)\n",
       "IATA                             \n",
       "BOG              0.5          220"
      ]
     },
     "execution_count": 30,
     "metadata": {},
     "output_type": "execute_result"
    }
   ],
   "source": [
    "minimo=minimos[minimos.index==Airport]\n",
    "minimo"
   ]
  },
  {
   "cell_type": "code",
   "execution_count": 31,
   "metadata": {},
   "outputs": [
    {
     "name": "stdout",
     "output_type": "stream",
     "text": [
      "Predicted Value for Vertical Visibility is 1979.0899658203125 ft\n",
      "Predicted Value for Horizontal Visibility is 4.619999885559082 miles\n"
     ]
    }
   ],
   "source": [
    "prediction_V=predicted_denorm_V[23][0]\n",
    "prediction_V=round(prediction_V, 2)\n",
    "\n",
    "prediction_H=predicted_denorm_H[23][0]\n",
    "prediction_H=round(prediction_H, 2)\n",
    "\n",
    "\n",
    "print(f\"Predicted Value for Vertical Visibility is {prediction_V} ft\")\n",
    "print(f\"Predicted Value for Horizontal Visibility is {prediction_H} miles\")"
   ]
  },
  {
   "cell_type": "code",
   "execution_count": 32,
   "metadata": {},
   "outputs": [],
   "source": [
    "Meets_Vertical=prediction_V>minimo['V Vsby (ft)']\n",
    "Meets_Horizontal=prediction_H>minimo['H Vsby (miles)']"
   ]
  },
  {
   "cell_type": "code",
   "execution_count": 33,
   "metadata": {},
   "outputs": [
    {
     "data": {
      "text/plain": [
       "IATA\n",
       "BOG    True\n",
       "Name: V Vsby (ft), dtype: bool"
      ]
     },
     "execution_count": 33,
     "metadata": {},
     "output_type": "execute_result"
    }
   ],
   "source": [
    "Meets_Vertical"
   ]
  },
  {
   "cell_type": "code",
   "execution_count": 34,
   "metadata": {},
   "outputs": [
    {
     "data": {
      "text/plain": [
       "IATA\n",
       "BOG    True\n",
       "Name: H Vsby (miles), dtype: bool"
      ]
     },
     "execution_count": 34,
     "metadata": {},
     "output_type": "execute_result"
    }
   ],
   "source": [
    "Meets_Horizontal"
   ]
  }
 ],
 "metadata": {
  "kernelspec": {
   "display_name": "Python 3",
   "language": "python",
   "name": "python3"
  },
  "language_info": {
   "codemirror_mode": {
    "name": "ipython",
    "version": 3
   },
   "file_extension": ".py",
   "mimetype": "text/x-python",
   "name": "python",
   "nbconvert_exporter": "python",
   "pygments_lexer": "ipython3",
   "version": "3.8.6-candidate"
  }
 },
 "nbformat": 4,
 "nbformat_minor": 4
}